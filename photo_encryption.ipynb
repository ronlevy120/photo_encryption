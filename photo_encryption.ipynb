{
 "cells": [
  {
   "cell_type": "code",
   "execution_count": null,
   "metadata": {},
   "outputs": [],
   "source": [
    "from datetime import datetime\n",
    "import matplotlib.image as mpimg\n",
    "import os\n",
    "from PIL import Image, ImageDraw \n",
    "\n",
    "\n",
    "\n",
    "class Password:\n",
    "\n",
    "    def __init__(self, path=None):\n",
    "        self.code = input(\"Please insert your password\")\n",
    "        self.the_color = 255 # We use this color for the image\n",
    "        self.path = path\n",
    "        \n",
    "        \n",
    "    def code_to_image(self):\n",
    "        '''This function takes password from the user and convert it to image'''\n",
    "        \n",
    "        ord_list = []\n",
    "        for i in self.code:\n",
    "            i = ord(i)\n",
    "            ord_list.append(i)\n",
    "\n",
    "        w, h = 400, 400 # image size\n",
    "        img = Image.new(\"RGB\", (w, h)) \n",
    "        h = 0\n",
    "        width = 1\n",
    "        for h in ord_list:\n",
    "            img.putpixel((width, h), (self.the_color, self.the_color, self.the_color, self.the_color))\n",
    "            width += 1\n",
    "\n",
    "        img.show() # The image should pop up\n",
    "        \n",
    "        now = datetime.now() # time stump for image\n",
    "        current_time = now.strftime(\"%d.%m.%Y %H.%M.%S\")\n",
    "\n",
    "        self.image_name = \"password\" + current_time + \".png\"\n",
    "        img.save(self.image_name)\n",
    "        self.cwd = os.getcwd() # For the next app, directory location\n",
    "\n",
    "\n",
    "    def image_to_code(self, path=None):\n",
    "        '''This app encrypted the code from last function image'''\n",
    "        \n",
    "        if path is None:\n",
    "            self.path = os.path.join(self.cwd, self.image_name)\n",
    "        img = mpimg.imread(self.path)\n",
    "        rows, cols, colors = img.shape\n",
    "        img = img[:, :, 0] # remove the unnecessary dimension \n",
    "        empty_list = []\n",
    "        for j in range(cols):\n",
    "            for i in range(rows):\n",
    "                    if img[i, j] == 1:\n",
    "                        empty_list.append((i, j))\n",
    "        message = ''\n",
    "        for tup in empty_list:\n",
    "            message += chr(tup[0])\n",
    "        return message\n",
    "\n",
    "\n",
    "p = Password()\n",
    "\n"
   ]
  },
  {
   "cell_type": "code",
   "execution_count": null,
   "metadata": {},
   "outputs": [],
   "source": [
    "p.code_to_image()\n",
    "p.image_to_code()"
   ]
  }
 ],
 "metadata": {
  "kernelspec": {
   "display_name": "Python 3",
   "language": "python",
   "name": "python3"
  },
  "language_info": {
   "codemirror_mode": {
    "name": "ipython",
    "version": 3
   },
   "file_extension": ".py",
   "mimetype": "text/x-python",
   "name": "python",
   "nbconvert_exporter": "python",
   "pygments_lexer": "ipython3",
   "version": "3.7.3"
  }
 },
 "nbformat": 4,
 "nbformat_minor": 2
}
